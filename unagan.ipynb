{
  "nbformat": 4,
  "nbformat_minor": 0,
  "metadata": {
    "colab": {
      "name": "unagan (mathis).ipynb",
      "provenance": [],
      "collapsed_sections": [],
      "toc_visible": true,
      "include_colab_link": true
    },
    "kernelspec": {
      "name": "python3",
      "display_name": "Python 3"
    },
    "accelerator": "GPU"
  },
  "cells": [
    {
      "cell_type": "markdown",
      "metadata": {
        "id": "view-in-github",
        "colab_type": "text"
      },
      "source": [
        "<a href=\"https://colab.research.google.com/github/buganart/unagan/blob/master/unagan.ipynb\" target=\"_parent\"><img src=\"https://colab.research.google.com/assets/colab-badge.svg\" alt=\"Open In Colab\"/></a>"
      ]
    },
    {
      "cell_type": "code",
      "metadata": {
        "id": "l5hTlhspTbjX",
        "cellView": "form"
      },
      "source": [
        "# @title Setup\n",
        "# @markdown 1. Before starting please save the notebook in your drive by clicking on `File -> Save a copy in drive`\n",
        "# @markdown 2. Check GPU, should be a Tesla V100 if you want to train it as fast as possible.\n",
        "# @markdown 3. Mount google drive.\n",
        "# @markdown 4. Log in to wandb.\n",
        "\n",
        "\n",
        "!nvidia-smi -L\n",
        "import os\n",
        "\n",
        "print(f\"We have {os.cpu_count()} CPU cores.\")\n",
        "print()\n",
        "\n",
        "try:\n",
        "    from google.colab import drive, output\n",
        "\n",
        "    IN_COLAB = True\n",
        "except ImportError:\n",
        "    from IPython.display import clear_output\n",
        "\n",
        "    IN_COLAB = False\n",
        "\n",
        "from pathlib import Path\n",
        "\n",
        "if IN_COLAB:\n",
        "    drive.mount(\"/content/drive/\")\n",
        "\n",
        "    if not Path(\"/content/drive/My Drive/IRCMS_GAN_collaborative_database\").exists():\n",
        "        raise RuntimeError(\n",
        "            \"Shortcut to our shared drive folder doesn't exits.\\n\\n\"\n",
        "            \"\\t1. Go to the google drive web UI\\n\"\n",
        "            '\\t2. Right click shared folder IRCMS_GAN_collaborative_database and click \"Add shortcut to Drive\"'\n",
        "        )\n",
        "\n",
        "clear = output.clear if IN_COLAB else clear_output\n",
        "\n",
        "\n",
        "def clear_on_success(msg=\"Ok!\"):\n",
        "    if _exit_code == 0:\n",
        "        clear()\n",
        "        print(msg)\n",
        "\n",
        "\n",
        "print()\n",
        "print(\"Wandb installation and login ...\")\n",
        "%pip install -q wandb\n",
        "\n",
        "wandb_drive_netrc_path = Path(\"drive/My Drive/colab/.netrc\")\n",
        "wandb_local_netrc_path = Path(\"/root/.netrc\")\n",
        "if wandb_drive_netrc_path.exists():\n",
        "    import shutil\n",
        "\n",
        "    print(\"Wandb .netrc file found, will use that to log in.\")\n",
        "    shutil.copy(wandb_drive_netrc_path, wandb_local_netrc_path)\n",
        "else:\n",
        "    print(\n",
        "        f\"Wandb config not found at {wandb_drive_netrc_path}.\\n\"\n",
        "        f\"Using manual login.\\n\\n\"\n",
        "        f\"To use auto login in the future, finish the manual login first and then run:\\n\\n\"\n",
        "        f\"\\t!mkdir -p '{wandb_drive_netrc_path.parent}'\\n\"\n",
        "        f\"\\t!cp {wandb_local_netrc_path} '{wandb_drive_netrc_path}'\\n\\n\"\n",
        "        f\"Then that file will be used to login next time.\\n\"\n",
        "    )\n",
        "\n",
        "!wandb login"
      ],
      "execution_count": null,
      "outputs": []
    },
    {
      "cell_type": "code",
      "metadata": {
        "id": "b2nGSKlz8xJU"
      },
      "source": [
        "#@title Configuration\n",
        "\n",
        "# Fill in the configuration then Then, select `Runtime` and `Run all` then let it ride!\n",
        "\n",
        "#@markdown #### Training\n",
        "\n",
        "drive = Path('/content/drive/MyDrive')\n",
        "drive_audio_db_root = drive / \"AUDIO DATABASE\"\n",
        "collaborative_database = drive / \"IRCMS_GAN_collaborative_database\"\n",
        "violingan_experiment_dir = collaborative_database / \"Experiments\" / \"colab-violingan\"\n",
        "experiment_dir = violingan_experiment_dir / \"unagan\"\n",
        "\n",
        "#@markdown The path of the Audio Database you'd like to work with\n",
        "#@markdown (relative to `My Drive/PUBLICATIONS/The Replicant/AUDIO DATABASE/`)\n",
        "audio_db = \"RAW Sessions/Roberto Studio Material 22050\" #@param {type:\"string\"}\n",
        "audio_db_dir = drive_audio_db_root / audio_db\n",
        "if not audio_db_dir.exists():\n",
        "    print(f\"Error: audio_db_dir {audio_db_dir} does not exist.\")\n",
        "\n",
        "#@markdown [Optional] ID of wandb run to resume.\n",
        "resume_run_id = \"\" #@param {type: \"string\"}\n",
        "\n",
        "def check_wandb_id(run_id):\n",
        "    if run_id and not re.match(r\"^[\\da-z]{8}$\", run_id):\n",
        "        raise RuntimeError(\n",
        "            \"Run ID needs to be 8 characters long and contain only letters a-z and digits.\\n\"\n",
        "            f\"Got \\\"{run_id}\\\"\"\n",
        "        )\n",
        "\n",
        "check_wandb_id(resume_run_id)\n",
        "\n",
        "#@markdown #### Generation (Todo: should we move this to separate notebook?)\n",
        "#@markdown The location of your Melgan Output (from within \"My Drive/\")\n",
        "melgan_output_location = \"RobertoStudioMaterial10-29/\" #@param {type:\"string\"}\n",
        "#@markdown The output name you'd like to give the Unagan directory (e.g. \"Scelsi1\")\n",
        "unagan_output_location = \"RobertoStudioMaterial10-29-Unagan-Output/\" #@param {type:\"string\"}\n",
        "\n",
        "config = dict(\n",
        "    audio_db_dir=audio_db_dir,\n",
        "    melgan_output_location=melgan_output_location,\n",
        "    unagan_output_location=unagan_output_location,\n",
        "    resume_run_id=resume_run_id,\n",
        ")\n",
        "for k,v in config.items():\n",
        "    print(f\"=> {k:30}: {v}\")"
      ],
      "execution_count": null,
      "outputs": []
    },
    {
      "cell_type": "code",
      "metadata": {
        "id": "NjxLUZlFBKyP",
        "cellView": "form"
      },
      "source": [
        "#@title Clone unagan repo.\n",
        "if IN_COLAB:\n",
        "    !git clone https://github.com/buganart/unagan\n",
        "    clear_on_success(\"Repo cloned!\")"
      ],
      "execution_count": null,
      "outputs": []
    },
    {
      "cell_type": "code",
      "metadata": {
        "id": "chU4MVd1BSct",
        "cellView": "form"
      },
      "source": [
        "#@title Install dependencies\n",
        "if IN_COLAB:\n",
        "    %cd \"/content/unagan/\"\n",
        "    \n",
        "%pip install -q -U -r requirements.txt\n",
        "clear_on_success(\"Dependencies installed!\")"
      ],
      "execution_count": null,
      "outputs": []
    },
    {
      "cell_type": "code",
      "metadata": {
        "id": "zgjJlo5QF8I4",
        "cellView": "form"
      },
      "source": [
        "#@title Copy files to local runtime.\n",
        "local_wav_dir = Path(\"data\")\n",
        "local_wav_dir.mkdir(exist_ok=True)\n",
        "!find \"{audio_db_dir}\" -maxdepth 1 -type f | xargs -t -d \"\\n\" -I'%%' -P 10 -n 1 rsync -a '%%' \"$local_wav_dir\"/\n",
        "clear_on_success(\"All files copied to this runtime.\")\n",
        "\n",
        "audio_paths = sorted(list(local_wav_dir.glob(\"*\")))\n",
        "num_files = len(audio_paths)\n",
        "print(f\"Database has {num_files} files in total.\")"
      ],
      "execution_count": null,
      "outputs": []
    },
    {
      "cell_type": "code",
      "metadata": {
        "id": "HE5EmRGgHBe5",
        "cellView": "form"
      },
      "source": [
        "#@title Collect audio clips.\n",
        "!python scripts/collect_audio_clips.py --audio-dir \"$local_wav_dir\" --extension wav\n",
        "clear_on_success(f\"Done.\")"
      ],
      "execution_count": null,
      "outputs": []
    },
    {
      "cell_type": "code",
      "metadata": {
        "id": "QJBVbFVbUqSM",
        "cellView": "form"
      },
      "source": [
        "#@title Extract mel spectrograms.\n",
        "!python scripts/extract_mel.py \n",
        "clear_on_success(\"Done!\")"
      ],
      "execution_count": null,
      "outputs": []
    },
    {
      "cell_type": "code",
      "metadata": {
        "id": "R0qj2FG4U17Y"
      },
      "source": [
        "#@title Make dataset\n",
        "!python scripts/make_dataset.py\n",
        "clear_on_success(\"Done!\")"
      ],
      "execution_count": null,
      "outputs": []
    },
    {
      "cell_type": "code",
      "metadata": {
        "id": "ac2KepbFoOrg",
        "cellView": "form"
      },
      "source": [
        "#@title Compute mean and standard deviation\n",
        "!python scripts/compute_mean_std.mel.py\n",
        "clear_on_success(\"Done!\")"
      ],
      "execution_count": null,
      "outputs": []
    },
    {
      "cell_type": "code",
      "metadata": {
        "id": "NOQSMDxHU4UC",
        "colab": {
          "base_uri": "https://localhost:8080/"
        },
        "outputId": "8ebda140-a613-4d6d-a7e5-a7d876a064ad"
      },
      "source": [
        "#@title Train\n",
        "!env PYTHONPATH=\".\" python scripts/train.hierarchical_with_cycle.py \\\n",
        "    --model-id \"$resume_run_id\" \\\n",
        "    --wandb-dir \"$experiment_dir\""
      ],
      "execution_count": null,
      "outputs": [
        {
          "output_type": "stream",
          "text": [
            "Epoch 1. Batch: 110/500, T: 0.479, (tr) G: 0.51602, (tr) D: 0.83547, (tr) RealD: 0.83570, (tr) FakeD: 0.51602, (tr) Convergence: 1.15538, (tr) NoiseRecon: 0.57139, (tr) RealRecon: 1.02191,  0.0036522340960800648\n",
            "Epoch 1. Batch: 120/500, T: 0.463, (tr) G: 0.63555, (tr) D: 0.59137, (tr) RealD: 0.59137, (tr) FakeD: 0.63555, (tr) Convergence: 0.63555, (tr) NoiseRecon: 0.57006, (tr) RealRecon: 0.62287,  0.0\n",
            "Epoch 1. Batch: 130/500, T: 0.470, (tr) G: 0.53286, (tr) D: 0.44853, (tr) RealD: 0.44853, (tr) FakeD: 0.53286, (tr) Convergence: 0.53286, (tr) NoiseRecon: 0.54046, (tr) RealRecon: 0.58507,  0.0\n",
            "Epoch 1. Batch: 140/500, T: 0.457, (tr) G: 0.48762, (tr) D: 0.36703, (tr) RealD: 0.36703, (tr) FakeD: 0.48762, (tr) Convergence: 0.48762, (tr) NoiseRecon: 0.51662, (tr) RealRecon: 0.51641,  0.0\n",
            "Epoch 1. Batch: 150/500, T: 0.450, (tr) G: 0.47839, (tr) D: 0.43835, (tr) RealD: 0.44087, (tr) FakeD: 0.47839, (tr) Convergence: 0.47839, (tr) NoiseRecon: 0.53826, (tr) RealRecon: 0.59810,  0.004889987409114838\n",
            "Epoch 1. Batch: 160/500, T: 0.476, (tr) G: 0.47748, (tr) D: 0.83715, (tr) RealD: 0.84065, (tr) FakeD: 0.47748, (tr) Convergence: 1.20383, (tr) NoiseRecon: 0.50181, (tr) RealRecon: 0.68219,  0.010964836925268173\n",
            "Epoch 1. Batch: 170/500, T: 0.469, (tr) G: 0.44670, (tr) D: 0.38134, (tr) RealD: 0.38585, (tr) FakeD: 0.44670, (tr) Convergence: 0.44670, (tr) NoiseRecon: 0.52528, (tr) RealRecon: 0.63784,  0.00947925541549921\n",
            "Epoch 1. Batch: 180/500, T: 0.476, (tr) G: 0.45232, (tr) D: 0.56792, (tr) RealD: 0.57241, (tr) FakeD: 0.45232, (tr) Convergence: 0.69250, (tr) NoiseRecon: 0.50414, (tr) RealRecon: 0.61697,  0.011129016987979412\n",
            "Epoch 1. Batch: 190/500, T: 0.474, (tr) G: 0.44496, (tr) D: 0.50115, (tr) RealD: 0.50750, (tr) FakeD: 0.44496, (tr) Convergence: 0.57003, (tr) NoiseRecon: 0.47986, (tr) RealRecon: 0.57866,  0.014881588518619537\n",
            "Epoch 1. Batch: 200/500, T: 0.486, (tr) G: 0.47366, (tr) D: 0.54252, (tr) RealD: 0.54982, (tr) FakeD: 0.47366, (tr) Convergence: 0.62599, (tr) NoiseRecon: 0.47773, (tr) RealRecon: 0.58824,  0.016191359609365463\n",
            "Epoch 1. Batch: 210/500, T: 0.470, (tr) G: 0.40563, (tr) D: 0.53257, (tr) RealD: 0.53914, (tr) FakeD: 0.40563, (tr) Convergence: 0.67264, (tr) NoiseRecon: 0.46409, (tr) RealRecon: 0.61430,  0.01753479614853859\n",
            "Epoch 1. Batch: 220/500, T: 0.459, (tr) G: 0.38170, (tr) D: 0.33251, (tr) RealD: 0.33994, (tr) FakeD: 0.38170, (tr) Convergence: 0.38170, (tr) NoiseRecon: 0.46040, (tr) RealRecon: 0.42741,  0.019056588411331177\n",
            "Epoch 1. Batch: 230/500, T: 0.472, (tr) G: 0.39309, (tr) D: 0.40813, (tr) RealD: 0.41883, (tr) FakeD: 0.39309, (tr) Convergence: 0.44458, (tr) NoiseRecon: 0.45151, (tr) RealRecon: 0.58875,  0.027477560564875603\n",
            "Epoch 1. Batch: 240/500, T: 0.455, (tr) G: 0.37259, (tr) D: 0.77805, (tr) RealD: 0.79019, (tr) FakeD: 0.37259, (tr) Convergence: 1.20778, (tr) NoiseRecon: 0.44131, (tr) RealRecon: 0.72680,  0.03674793988466263\n",
            "Epoch 1. Batch: 250/500, T: 0.469, (tr) G: 0.36190, (tr) D: 0.37738, (tr) RealD: 0.39315, (tr) FakeD: 0.36190, (tr) Convergence: 0.42440, (tr) NoiseRecon: 0.43587, (tr) RealRecon: 0.61443,  0.04389778897166252\n"
          ],
          "name": "stdout"
        }
      ]
    },
    {
      "cell_type": "markdown",
      "metadata": {
        "id": "jIoa4QA73wO6"
      },
      "source": [
        "# Anything below is untested and probably won't work anymore."
      ]
    },
    {
      "cell_type": "code",
      "metadata": {
        "id": "57CwP7VukfOS"
      },
      "source": [
        "%mkdir -p \"/content/unagan/models/custom/vocoder\""
      ],
      "execution_count": null,
      "outputs": []
    },
    {
      "cell_type": "code",
      "metadata": {
        "id": "3QbbDMuLiPsT"
      },
      "source": [
        "unagan_output_dir = \"/content/drive/My Drive/AUDIO DATABASE/UNAGAN OUTPUT/\" + unagan_output_location\n",
        "%mkdir -p \"$unagan_output_dir\""
      ],
      "execution_count": null,
      "outputs": []
    },
    {
      "cell_type": "code",
      "metadata": {
        "id": "beZiGms0cxf9"
      },
      "source": [
        "cp \"/content/unagan/training_data/exp_data/mean.mel.npy\" \"/content/unagan/models/custom\""
      ],
      "execution_count": null,
      "outputs": []
    },
    {
      "cell_type": "code",
      "metadata": {
        "id": "Vk3GedkpFkT3"
      },
      "source": [
        "cp \"/content/unagan/training_data/exp_data/mean.mel.npy\" \"$unagan_output_dir\""
      ],
      "execution_count": null,
      "outputs": []
    },
    {
      "cell_type": "code",
      "metadata": {
        "id": "FDZlNeL74yFS"
      },
      "source": [
        "cp \"/content/unagan/training_data/exp_data/std.mel.npy\" \"/content/unagan/models/custom\""
      ],
      "execution_count": null,
      "outputs": []
    },
    {
      "cell_type": "code",
      "metadata": {
        "id": "MvpCWZfrGX3P"
      },
      "source": [
        "cp \"/content/unagan/training_data/exp_data/std.mel.npy\" \"$unagan_output_dir\""
      ],
      "execution_count": null,
      "outputs": []
    },
    {
      "cell_type": "code",
      "metadata": {
        "id": "viDVxSrCft6l"
      },
      "source": [
        "import fnmatch\n",
        "import os\n",
        "\n",
        "for folder in os.listdir(\"/content/unagan/wandb/\"):\n",
        "    if folder.startswith ('run-'):\n",
        "        print (folder)\n",
        "        run_dir = folder"
      ],
      "execution_count": null,
      "outputs": []
    },
    {
      "cell_type": "code",
      "metadata": {
        "id": "VGUl2kAS35g1"
      },
      "source": [
        "unagan_param = \"/content/unagan/wandb/\" + run_dir + \"/files/model/params.Generator.latest.torch\""
      ],
      "execution_count": null,
      "outputs": []
    },
    {
      "cell_type": "code",
      "metadata": {
        "id": "0iXsb30_c2gP"
      },
      "source": [
        "cp \"$unagan_param\" \"/content/unagan/models/custom/params.generator.hierarchical_with_cycle.pt\""
      ],
      "execution_count": null,
      "outputs": []
    },
    {
      "cell_type": "code",
      "metadata": {
        "id": "A4zCl3C2HjdC"
      },
      "source": [
        "cp \"$unagan_param\" \"$unagan_output_dir\""
      ],
      "execution_count": null,
      "outputs": []
    },
    {
      "cell_type": "code",
      "metadata": {
        "id": "FBaOcsAwD1aO"
      },
      "source": [
        "melgan_args = \"/content/drive/My Drive/\" + melgan_output_location + \"args.yml\"\n",
        "melgan_modules = \"/content/drive/My Drive/\" + melgan_output_location + \"modules.py\"\n",
        "melgan_netG = \"/content/drive/My Drive/\" + melgan_output_location + \"best_netG.pt\""
      ],
      "execution_count": null,
      "outputs": []
    },
    {
      "cell_type": "code",
      "metadata": {
        "id": "UId5Z4jaFlvK"
      },
      "source": [
        "cp \"$melgan_args\" \"/content/unagan/models/custom/vocoder/\""
      ],
      "execution_count": null,
      "outputs": []
    },
    {
      "cell_type": "code",
      "metadata": {
        "id": "OKGXVdwncltU"
      },
      "source": [
        "cp \"$melgan_modules\" \"/content/unagan/models/custom/vocoder/\""
      ],
      "execution_count": null,
      "outputs": []
    },
    {
      "cell_type": "code",
      "metadata": {
        "id": "2zCYKETwcrwy"
      },
      "source": [
        "cp \"$melgan_netG\" \"/content/unagan/models/custom/vocoder/params.pt\""
      ],
      "execution_count": null,
      "outputs": []
    },
    {
      "cell_type": "code",
      "metadata": {
        "id": "l_zKUkRug_A3"
      },
      "source": [
        "!env PYTHONPATH=\"$PWD\" python generate.py --gid 0 --data_type custom --arch_type hc --duration 600 --num_samples 60"
      ],
      "execution_count": null,
      "outputs": []
    },
    {
      "cell_type": "code",
      "metadata": {
        "id": "vIRY78rK42Po"
      },
      "source": [
        "!rsync -avP \"/content/unagan/generated_samples/custom.hierarchical_with_cycle\" \"$unagan_output_dir\""
      ],
      "execution_count": null,
      "outputs": []
    }
  ]
}