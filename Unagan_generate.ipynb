{
  "nbformat": 4,
  "nbformat_minor": 0,
  "metadata": {
    "colab": {
      "name": "Unagan_generate.ipynb",
      "provenance": [],
      "collapsed_sections": [],
      "toc_visible": true,
      "include_colab_link": true
    },
    "kernelspec": {
      "name": "python3",
      "display_name": "Python 3"
    },
    "accelerator": "GPU"
  },
  "cells": [
    {
      "cell_type": "markdown",
      "metadata": {
        "id": "view-in-github",
        "colab_type": "text"
      },
      "source": [
        "<a href=\"https://colab.research.google.com/github/buganart/unagan/blob/master/Unagan_generate.ipynb\" target=\"_parent\"><img src=\"https://colab.research.google.com/assets/colab-badge.svg\" alt=\"Open In Colab\"/></a>"
      ]
    },
    {
      "cell_type": "code",
      "metadata": {
        "id": "l5hTlhspTbjX",
        "cellView": "form"
      },
      "source": [
        "# @title Setup\n",
        "# @markdown 1. Before starting please save the notebook in your drive by clicking on `File -> Save a copy in drive`\n",
        "# @markdown 2. Check GPU, should be a Tesla V100 if you want to train it as fast as possible.\n",
        "# @markdown 3. Mount google drive.\n",
        "# @markdown 4. Log in to wandb.\n",
        "\n",
        "!nvidia-smi -L\n",
        "import os\n",
        "os.environ[\"WANDB_MODE\"] = \"dryrun\"\n",
        "\n",
        "print(f\"We have {os.cpu_count()} CPU cores.\")\n",
        "print()\n",
        "\n",
        "try:\n",
        "    from google.colab import drive, output\n",
        "\n",
        "    IN_COLAB = True\n",
        "except ImportError:\n",
        "    from IPython.display import clear_output\n",
        "\n",
        "    IN_COLAB = False\n",
        "\n",
        "from pathlib import Path\n",
        "\n",
        "if IN_COLAB:\n",
        "    drive.mount(\"/content/drive/\")\n",
        "\n",
        "    if not Path(\"/content/drive/My Drive/IRCMS_GAN_collaborative_database\").exists():\n",
        "        raise RuntimeError(\n",
        "            \"Shortcut to our shared drive folder doesn't exits.\\n\\n\"\n",
        "            \"\\t1. Go to the google drive web UI\\n\"\n",
        "            '\\t2. Right click shared folder IRCMS_GAN_collaborative_database and click \"Add shortcut to Drive\"'\n",
        "        )\n",
        "\n",
        "clear = output.clear if IN_COLAB else clear_output\n",
        "\n",
        "def clear_on_success(msg=\"Ok!\"):\n",
        "    if _exit_code == 0:\n",
        "        clear()\n",
        "        print(msg)\n",
        "\n",
        "print()\n",
        "print(\"Wandb installation and login ...\")\n",
        "%pip install -q wandb\n",
        "\n",
        "wandb_drive_netrc_path = Path(\"drive/My Drive/colab/.netrc\")\n",
        "wandb_local_netrc_path = Path(\"/root/.netrc\")\n",
        "if wandb_drive_netrc_path.exists():\n",
        "    import shutil\n",
        "\n",
        "    print(\"Wandb .netrc file found, will use that to log in.\")\n",
        "    shutil.copy(wandb_drive_netrc_path, wandb_local_netrc_path)\n",
        "else:\n",
        "    print(\n",
        "        f\"Wandb config not found at {wandb_drive_netrc_path}.\\n\"\n",
        "        f\"Using manual login.\\n\\n\"\n",
        "        f\"To use auto login in the future, finish the manual login first and then run:\\n\\n\"\n",
        "        f\"\\t!mkdir -p '{wandb_drive_netrc_path.parent}'\\n\"\n",
        "        f\"\\t!cp {wandb_local_netrc_path} '{wandb_drive_netrc_path}'\\n\\n\"\n",
        "        f\"Then that file will be used to login next time.\\n\"\n",
        "    )\n",
        "\n",
        "!wandb login"
      ],
      "execution_count": null,
      "outputs": []
    },
    {
      "cell_type": "code",
      "metadata": {
        "id": "b2nGSKlz8xJU"
      },
      "source": [
        "#@title Configuration\n",
        "\n",
        "#@markdown Wandb run id for `melgan` run.\n",
        "melgan_run_id = \"h6tospcl\" #@param {type: \"string\"}\n",
        "\n",
        "#@markdown Wandb run id for `unagan` run.\n",
        "unagan_run_id = \"2o3gbv1z\" #@param {type: \"string\"}\n",
        "\n",
        "#@markdown Duration of generate samples in seconds.\n",
        "duration = 10 #@param {type: \"integer\"}\n",
        "\n",
        "#@markdown Number of samples to generate.\n",
        "num_samples = 10 #@param {type: \"integer\"}\n",
        "\n",
        "#@markdown Random seed for sample generation.\n",
        "seed = 123 #@param {type: \"integer\"}\n",
        "\n",
        "#@markdown The path of the directory where a directory for the generate files is created.\n",
        "output_dir = \"/content/drive/MyDrive/IRCMS_GAN_collaborative_database/Experiments/colab-violingan/unagan-outputs\" #@param {type:\"string\"}\n",
        "output_dir = Path(output_dir)\n",
        "output_dir.mkdir(parents=True, exist_ok=True)\n",
        "\n",
        "def check_wandb_id(run_id):\n",
        "    import re\n",
        "    if run_id and not re.match(r\"^[\\da-z]{8}$\", run_id):\n",
        "        raise RuntimeError(\n",
        "            \"Run ID needs to be 8 characters long and contain only letters a-z and digits.\\n\"\n",
        "            f\"Got \\\"{run_id}\\\"\"\n",
        "        )\n",
        "\n",
        "check_wandb_id(unagan_run_id)\n",
        "check_wandb_id(melgan_run_id)\n",
        "\n",
        "config = dict(\n",
        "    melgan_run_id=melgan_run_id,\n",
        "    unagan_run_id=unagan_run_id,\n",
        "    duration=duration,\n",
        "    num_samples=num_samples,\n",
        "    seed=seed,\n",
        "    output_dir=output_dir,\n",
        ")\n",
        "\n",
        "for k,v in config.items():\n",
        "    print(f\"=> {k:20}: {v}\")"
      ],
      "execution_count": null,
      "outputs": []
    },
    {
      "cell_type": "code",
      "metadata": {
        "id": "NjxLUZlFBKyP"
      },
      "source": [
        "#@title Clone `buganart/unagan` repo.\n",
        "if IN_COLAB:\n",
        "    %cd /content\n",
        "    !git clone https://github.com/buganart/unagan\n",
        "    clear_on_success(\"Repo cloned!\")"
      ],
      "execution_count": null,
      "outputs": []
    },
    {
      "cell_type": "code",
      "metadata": {
        "id": "chU4MVd1BSct"
      },
      "source": [
        "#@title Install dependencies\n",
        "if IN_COLAB:\n",
        "    %cd /content/unagan\n",
        "    %pip install -q -r requirements.txt\n",
        "\n",
        "clear_on_success(\"Dependencies installed!\")"
      ],
      "execution_count": null,
      "outputs": []
    },
    {
      "cell_type": "code",
      "metadata": {
        "id": "YGxnKuMc_BPx"
      },
      "source": [
        "#@title Download files from wandb\n",
        "import download_weights\n",
        "\n",
        "download_weights.main(\n",
        "    melgan_run_id=melgan_run_id,\n",
        "    unagan_run_id=unagan_run_id,\n",
        "    model_dir=Path('models/custom')\n",
        ")"
      ],
      "execution_count": null,
      "outputs": []
    },
    {
      "cell_type": "code",
      "metadata": {
        "id": "NOQSMDxHU4UC"
      },
      "source": [
        "#@title Generate\n",
        "import generate\n",
        "\n",
        "generate.main(\n",
        "    num_samples=num_samples, \n",
        "    gid=0,\n",
        "    output_folder=output_dir,\n",
        "    seed=seed,\n",
        "    duration=duration,\n",
        "    melgan_run_id=melgan_run_id,\n",
        "    unagan_run_id=unagan_run_id,\n",
        ")\n",
        "print(f\"Samples saved to {output_dir}\")"
      ],
      "execution_count": null,
      "outputs": []
    }
  ]
}